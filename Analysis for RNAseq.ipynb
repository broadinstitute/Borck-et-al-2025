{
 "cells": [
  {
   "cell_type": "markdown",
   "id": "272980c5-ecae-427a-ab12-29dcb8840220",
   "metadata": {},
   "source": [
    "# Analysis for RNAseq\n",
    "\n",
    "This notebook contains differential expression and gene set enrichment analysis for RNA-sequencing performed in KP4 cells with DOX-mediated knockdown of PELO alongside either Ch2 or FOCAD knockout.  Expected counts from RSEM are inputted to DESeq2, with GSEA pre-rank run on the shrunken LFCs for the Hallmark collection of gene sets."
   ]
  },
  {
   "cell_type": "code",
   "execution_count": 1,
   "id": "0466a913-f8a8-48f6-b5e0-cf2a91d4de29",
   "metadata": {},
   "outputs": [],
   "source": [
    "import numpy as np\n",
    "import pandas as pd\n",
    "\n",
    "from helper_funcs import *\n",
    "\n",
    "from pydeseq2.dds import DeseqDataSet\n",
    "from pydeseq2.default_inference import DefaultInference\n",
    "from pydeseq2.ds import DeseqStats\n",
    "\n",
    "import gseapy as gp"
   ]
  },
  {
   "cell_type": "markdown",
   "id": "5258486b-b53b-4421-b14c-0508a41d10a8",
   "metadata": {},
   "source": [
    "# Import data"
   ]
  },
  {
   "cell_type": "code",
   "execution_count": 2,
   "id": "c3b71e1e-e47b-4cf7-9b72-ebac7cda6689",
   "metadata": {},
   "outputs": [
    {
     "name": "stdout",
     "output_type": "stream",
     "text": [
      "Fetching local copy of sample_metadata_RNAseq\n",
      "Fetching local copy of RSEM_expected_count_RNAseq\n",
      "Fetching local copy of HGNC_complete_set\n",
      "Fetching local copy of hallmark_gene_sets_2023\n"
     ]
    }
   ],
   "source": [
    "redownload = False\n",
    "metadata = read_in_data(\"sample_metadata_RNAseq\", index_col=0, redownload=redownload)\n",
    "raw_counts_df = read_in_data(\"RSEM_expected_count_RNAseq\", index_col=0, redownload=redownload)\n",
    "gene_symbol_mapping = read_in_data(\"HGNC_complete_set\", redownload=redownload, low_memory=False)\n",
    "hallmarks = read_in_data(\"hallmark_gene_sets_2023\", index_col=0, redownload=redownload)[\"Hallmark Gene Set\"].str.split().to_dict()"
   ]
  },
  {
   "cell_type": "markdown",
   "id": "ce0cd312-cafd-4020-b0ec-27c24dfb59c8",
   "metadata": {},
   "source": [
    "# Rename to gene symbols"
   ]
  },
  {
   "cell_type": "code",
   "execution_count": 3,
   "id": "5263e2b6-710d-429a-b88e-ecdc4fa40aea",
   "metadata": {},
   "outputs": [
    {
     "data": {
      "text/plain": [
       "(12, 41098)"
      ]
     },
     "execution_count": 3,
     "metadata": {},
     "output_type": "execute_result"
    }
   ],
   "source": [
    "#remove version suffix on RSEM output\n",
    "gene_map = pd.Series(raw_counts_df.columns.str.split(\".\").str[0], index=raw_counts_df.columns)\n",
    "#map to gene symbol\n",
    "gene_map = gene_map.to_frame(\"stripped\").reset_index().merge(\n",
    "    gene_symbol_mapping, left_on=\"stripped\", right_on=\"ensembl_gene_id\", how=\"inner\"\n",
    ").set_index(\"index\")[\"symbol\"]\n",
    "#drop ensembl IDs that map to multiple genes\n",
    "gene_map = gene_map.loc[~gene_map.index.duplicated(keep=False)]\n",
    "raw_counts_df = raw_counts_df.groupby(gene_map, axis=1).sum()\n",
    "raw_counts_df.shape"
   ]
  },
  {
   "cell_type": "markdown",
   "id": "5a882ef7-0328-48b1-b476-c2709c564484",
   "metadata": {},
   "source": [
    "# Filter out genes with no counts in any condition."
   ]
  },
  {
   "cell_type": "code",
   "execution_count": 4,
   "id": "2ab95f96-a47e-4a56-90eb-1460bbd941f2",
   "metadata": {},
   "outputs": [
    {
     "data": {
      "text/plain": [
       "(12, 20130)"
      ]
     },
     "execution_count": 4,
     "metadata": {},
     "output_type": "execute_result"
    }
   ],
   "source": [
    "genes_to_keep = raw_counts_df.columns[raw_counts_df.sum() > 1]\n",
    "counts_df = raw_counts_df.loc[:, genes_to_keep].copy()\n",
    "counts_df.shape"
   ]
  },
  {
   "cell_type": "markdown",
   "id": "3672eda9-d695-49eb-9d87-6e847b1227ba",
   "metadata": {},
   "source": [
    "# Run Inference"
   ]
  },
  {
   "cell_type": "code",
   "execution_count": 5,
   "id": "e95add3b-832e-4289-b6a8-8fd1a1092a78",
   "metadata": {},
   "outputs": [],
   "source": [
    "def run_deseq2(comps, ref_level):\n",
    "    #setup DEseq2 with condition design factor and designated reference\n",
    "    inference = DefaultInference(n_cpus=8)\n",
    "    dds = DeseqDataSet(\n",
    "        counts=counts_df,\n",
    "        metadata=metadata,\n",
    "        design_factors=\"Condition\",\n",
    "        ref_level=[\"Condition\", ref_level],\n",
    "        refit_cooks=True,\n",
    "        inference=inference,\n",
    "    )\n",
    "    dds.deseq2()\n",
    "\n",
    "    #iterate through comparisons to the reference\n",
    "    results, pre_dfs = {}, {}\n",
    "    for name, contrast in comps.items():\n",
    "        #run diff expr calling\n",
    "        stats = DeseqStats(dds, contrast=contrast, inference=inference)\n",
    "        stats.summary()\n",
    "        #shrink LFCs\n",
    "        stats.lfc_shrink()\n",
    "        #store results\n",
    "        results_df = stats.results_df\n",
    "        results_df[\"-log10(padj)\"] = -np.log10(results_df[\"padj\"])\n",
    "        results_df[\"UPR\"] = results_df.index.isin(hallmarks[\"HALLMARK_UNFOLDED_PROTEIN_RESPONSE\"])\n",
    "\n",
    "        #run GSEA prerank on shrunken LFCs\n",
    "        pre_res = gp.prerank(\n",
    "            results_df[\"log2FoldChange\"], gene_sets=hallmarks,\n",
    "            threads=4, min_size=5, max_size=1000, permutation_num=1000,\n",
    "            outdir=None, seed=6, verbose=True,\n",
    "        )\n",
    "\n",
    "        #store GSEA outputs\n",
    "        pre_df = pd.concat({\n",
    "            k:pd.Series(pre_res.results[k]) for k in pre_res.results.keys()\n",
    "        }, axis=1).T.rename_axis(\"gene set\").reset_index().set_index(\n",
    "            [\"gene set\", \"nes\", \"pval\", \"fdr\"]\n",
    "        )[\"RES\"].apply(pd.Series).reset_index().set_index('gene set').T\n",
    "\n",
    "        results[name] = results_df\n",
    "        pre_dfs[name] = pre_df\n",
    "\n",
    "    return results, pre_dfs"
   ]
  },
  {
   "cell_type": "markdown",
   "id": "ac3276ef-64dc-4bf4-aeab-bd31d44268c5",
   "metadata": {},
   "source": [
    "# Call differentially expressed genes"
   ]
  },
  {
   "cell_type": "code",
   "execution_count": 6,
   "id": "5e449fb0-f5a6-4dce-beaf-11b1a7cbb1cc",
   "metadata": {},
   "outputs": [
    {
     "name": "stderr",
     "output_type": "stream",
     "text": [
      "Fitting size factors...\n",
      "... done in 0.01 seconds.\n",
      "\n",
      "Fitting dispersions...\n",
      "... done in 0.74 seconds.\n",
      "\n",
      "Fitting dispersion trend curve...\n",
      "... done in 0.91 seconds.\n",
      "\n",
      "Fitting MAP dispersions...\n",
      "... done in 0.86 seconds.\n",
      "\n",
      "Fitting LFCs...\n",
      "... done in 0.67 seconds.\n",
      "\n",
      "Replacing 0 outlier genes.\n",
      "\n",
      "Running Wald tests...\n",
      "... done in 0.81 seconds.\n",
      "\n",
      "Fitting MAP LFCs...\n"
     ]
    },
    {
     "name": "stdout",
     "output_type": "stream",
     "text": [
      "Log2 fold change & Wald test p-value: Condition FOCAD KO + DoxNeg vs Chr2 KO + DoxNeg\n",
      "            baseMean  log2FoldChange     lfcSE      stat    pvalue      padj\n",
      "symbol                                                                      \n",
      "A1BG        0.380526        0.365326  4.707328  0.077608  0.938140       NaN\n",
      "A2M         0.090201        1.418620  4.568222  0.310541  0.756150       NaN\n",
      "A2M-AS1     0.723841       -0.667839  2.146901 -0.311071  0.755747       NaN\n",
      "A2MP1       0.103156       -0.764528  4.630581 -0.165104  0.868862       NaN\n",
      "A4GALT     75.024235        0.075366  0.218764  0.344507  0.730465  0.967868\n",
      "...              ...             ...       ...       ...       ...       ...\n",
      "ZYG11A      0.709035       -0.403307  2.056229 -0.196139  0.844501       NaN\n",
      "ZYG11B    473.775645       -0.030182  0.113323 -0.266339  0.789978  0.977403\n",
      "ZYX      3130.500188        0.039010  0.068009  0.573608  0.566233  0.945367\n",
      "ZZEF1     769.625457        0.171289  0.091868  1.864513  0.062250  0.587086\n",
      "ZZZ3      460.588569        0.072620  0.114577  0.633814  0.526202  0.940461\n",
      "\n",
      "[20130 rows x 6 columns]\n"
     ]
    },
    {
     "name": "stderr",
     "output_type": "stream",
     "text": [
      "... done in 1.97 seconds.\n",
      "\n",
      "2024-08-01 11:34:04,514 [WARNING] Duplicated values found in preranked stats: 9.21% of genes\n",
      "The order of those genes will be arbitrary, which may produce unexpected results.\n",
      "2024-08-01 11:34:04,514 [INFO] Parsing data files for GSEA.............................\n",
      "2024-08-01 11:34:04,516 [INFO] 0000 gene_sets have been filtered out when max_size=1000 and min_size=5\n",
      "2024-08-01 11:34:04,517 [INFO] 0050 gene_sets used for further statistical testing.....\n",
      "2024-08-01 11:34:04,517 [INFO] Start to run GSEA...Might take a while..................\n"
     ]
    },
    {
     "name": "stdout",
     "output_type": "stream",
     "text": [
      "Shrunk log2 fold change & Wald test p-value: Condition FOCAD KO + DoxNeg vs Chr2 KO + DoxNeg\n",
      "            baseMean  log2FoldChange     lfcSE      stat    pvalue      padj\n",
      "symbol                                                                      \n",
      "A1BG        0.380526       -0.000264  0.058204  0.077608  0.938140       NaN\n",
      "A2M         0.090201        0.000216  0.054060  0.310541  0.756150       NaN\n",
      "A2M-AS1     0.723841       -0.000521  0.046723 -0.311071  0.755747       NaN\n",
      "A2MP1       0.103156       -0.000328  0.064668 -0.165104  0.868862       NaN\n",
      "A4GALT     75.024235        0.004383  0.044394  0.344507  0.730465  0.967868\n",
      "...              ...             ...       ...       ...       ...       ...\n",
      "ZYG11A      0.709035       -0.000320  0.050717 -0.196139  0.844501       NaN\n",
      "ZYG11B    473.775645       -0.005640  0.041980 -0.266339  0.789978  0.977403\n",
      "ZYX      3130.500188        0.014759  0.038574  0.573608  0.566233  0.945367\n",
      "ZZEF1     769.625457        0.063070  0.075787  1.864513  0.062250  0.587086\n",
      "ZZZ3      460.588569        0.013517  0.043364  0.633814  0.526202  0.940461\n",
      "\n",
      "[20130 rows x 6 columns]\n"
     ]
    },
    {
     "name": "stderr",
     "output_type": "stream",
     "text": [
      "2024-08-01 11:34:05,993 [INFO] Congratulations. GSEApy runs successfully................\n",
      "\n",
      "Running Wald tests...\n",
      "... done in 0.57 seconds.\n",
      "\n",
      "Fitting MAP LFCs...\n",
      "/opt/anaconda3/envs/pelo/lib/python3.9/site-packages/pydeseq2/utils.py:1249: RuntimeWarning: overflow encountered in exp\n",
      "  counts - (counts + size) / (1 + size * np.exp(-xbeta - offset))\n"
     ]
    },
    {
     "name": "stdout",
     "output_type": "stream",
     "text": [
      "Log2 fold change & Wald test p-value: Condition Chr2 KO + DoxPos vs Chr2 KO + DoxNeg\n",
      "            baseMean  log2FoldChange     lfcSE      stat    pvalue      padj\n",
      "symbol                                                                      \n",
      "A1BG        0.380526        0.293182  4.698443  0.062400  0.950245  0.998403\n",
      "A2M         0.090201        0.432979  4.749863  0.091156  0.927369  0.998403\n",
      "A2M-AS1     0.723841       -0.652519  2.128984 -0.306493  0.759229  0.998403\n",
      "A2MP1       0.103156       -0.836673  4.621317 -0.181046  0.856331  0.998403\n",
      "A4GALT     75.024235        0.169986  0.215607  0.788408  0.430458  0.998403\n",
      "...              ...             ...       ...       ...       ...       ...\n",
      "ZYG11A      0.709035       -2.294694  2.614536 -0.877668  0.380124  0.998403\n",
      "ZYG11B    473.775645        0.004060  0.112471  0.036097  0.971205  0.998403\n",
      "ZYX      3130.500188        0.091904  0.067709  1.357336  0.174675  0.998403\n",
      "ZZEF1     769.625457       -0.076446  0.092422 -0.827141  0.408157  0.998403\n",
      "ZZZ3      460.588569        0.097445  0.113773  0.856487  0.391729  0.998403\n",
      "\n",
      "[20130 rows x 6 columns]\n"
     ]
    },
    {
     "name": "stderr",
     "output_type": "stream",
     "text": [
      "/opt/anaconda3/envs/pelo/lib/python3.9/site-packages/pydeseq2/utils.py:1249: RuntimeWarning: overflow encountered in exp\n",
      "  counts - (counts + size) / (1 + size * np.exp(-xbeta - offset))\n",
      "/opt/anaconda3/envs/pelo/lib/python3.9/site-packages/pydeseq2/utils.py:1249: RuntimeWarning: overflow encountered in exp\n",
      "  counts - (counts + size) / (1 + size * np.exp(-xbeta - offset))\n",
      "/opt/anaconda3/envs/pelo/lib/python3.9/site-packages/pydeseq2/utils.py:1249: RuntimeWarning: overflow encountered in exp\n",
      "  counts - (counts + size) / (1 + size * np.exp(-xbeta - offset))\n",
      "/opt/anaconda3/envs/pelo/lib/python3.9/site-packages/pydeseq2/utils.py:1249: RuntimeWarning: overflow encountered in exp\n",
      "  counts - (counts + size) / (1 + size * np.exp(-xbeta - offset))\n",
      "/opt/anaconda3/envs/pelo/lib/python3.9/site-packages/pydeseq2/utils.py:1249: RuntimeWarning: overflow encountered in exp\n",
      "  counts - (counts + size) / (1 + size * np.exp(-xbeta - offset))\n",
      "/opt/anaconda3/envs/pelo/lib/python3.9/site-packages/pydeseq2/utils.py:1249: RuntimeWarning: overflow encountered in exp\n",
      "  counts - (counts + size) / (1 + size * np.exp(-xbeta - offset))\n",
      "/opt/anaconda3/envs/pelo/lib/python3.9/site-packages/pydeseq2/utils.py:1249: RuntimeWarning: overflow encountered in exp\n",
      "  counts - (counts + size) / (1 + size * np.exp(-xbeta - offset))\n",
      "/opt/anaconda3/envs/pelo/lib/python3.9/site-packages/pydeseq2/utils.py:1249: RuntimeWarning: overflow encountered in exp\n",
      "  counts - (counts + size) / (1 + size * np.exp(-xbeta - offset))\n",
      "/opt/anaconda3/envs/pelo/lib/python3.9/site-packages/pydeseq2/utils.py:1249: RuntimeWarning: overflow encountered in exp\n",
      "  counts - (counts + size) / (1 + size * np.exp(-xbeta - offset))\n",
      "/opt/anaconda3/envs/pelo/lib/python3.9/site-packages/pydeseq2/utils.py:1249: RuntimeWarning: overflow encountered in exp\n",
      "  counts - (counts + size) / (1 + size * np.exp(-xbeta - offset))\n",
      "/opt/anaconda3/envs/pelo/lib/python3.9/site-packages/pydeseq2/utils.py:1249: RuntimeWarning: overflow encountered in exp\n",
      "  counts - (counts + size) / (1 + size * np.exp(-xbeta - offset))\n",
      "/opt/anaconda3/envs/pelo/lib/python3.9/site-packages/pydeseq2/utils.py:1249: RuntimeWarning: overflow encountered in exp\n",
      "  counts - (counts + size) / (1 + size * np.exp(-xbeta - offset))\n",
      "/opt/anaconda3/envs/pelo/lib/python3.9/site-packages/pydeseq2/utils.py:1249: RuntimeWarning: overflow encountered in exp\n",
      "  counts - (counts + size) / (1 + size * np.exp(-xbeta - offset))\n",
      "... done in 3.25 seconds.\n",
      "\n",
      "2024-08-01 11:34:10,266 [WARNING] Duplicated values found in preranked stats: 9.21% of genes\n",
      "The order of those genes will be arbitrary, which may produce unexpected results.\n",
      "2024-08-01 11:34:10,266 [INFO] Parsing data files for GSEA.............................\n",
      "2024-08-01 11:34:10,268 [INFO] 0000 gene_sets have been filtered out when max_size=1000 and min_size=5\n",
      "2024-08-01 11:34:10,269 [INFO] 0050 gene_sets used for further statistical testing.....\n",
      "2024-08-01 11:34:10,269 [INFO] Start to run GSEA...Might take a while..................\n"
     ]
    },
    {
     "name": "stdout",
     "output_type": "stream",
     "text": [
      "Shrunk log2 fold change & Wald test p-value: Condition Chr2 KO + DoxPos vs Chr2 KO + DoxNeg\n",
      "            baseMean  log2FoldChange     lfcSE      stat    pvalue      padj\n",
      "symbol                                                                      \n",
      "A1BG        0.380526   -9.626434e-08  0.001100  0.062400  0.950245  0.998403\n",
      "A2M         0.090201   -7.735856e-08  0.001118  0.091156  0.927369  0.998403\n",
      "A2M-AS1     0.723841   -1.609881e-07  0.000881 -0.306493  0.759229  0.998403\n",
      "A2MP1       0.103156   -1.219659e-07  0.001224 -0.181046  0.856331  0.998403\n",
      "A4GALT     75.024235    3.830802e-06  0.000849  0.788408  0.430458  0.998403\n",
      "...              ...             ...       ...       ...       ...       ...\n",
      "ZYG11A      0.709035   -5.357074e-07  0.000944 -0.877668  0.380124  0.998403\n",
      "ZYG11B    473.775645    1.931635e-07  0.000845  0.036097  0.971205  0.998403\n",
      "ZYX      3130.500188    2.208994e-05  0.000834  1.357336  0.174675  0.998403\n",
      "ZZEF1     769.625457   -8.943421e-06  0.000848 -0.827141  0.408157  0.998403\n",
      "ZZZ3      460.588569    7.489883e-06  0.000842  0.856487  0.391729  0.998403\n",
      "\n",
      "[20130 rows x 6 columns]\n"
     ]
    },
    {
     "name": "stderr",
     "output_type": "stream",
     "text": [
      "2024-08-01 11:34:11,864 [INFO] Congratulations. GSEApy runs successfully................\n",
      "\n"
     ]
    }
   ],
   "source": [
    "comps = {\n",
    "    \"DOX- with FOCAD KO vs Ch2 KO\":[\"Condition\", \"FOCAD KO + DoxNeg\", \"Chr2 KO + DoxNeg\"],\n",
    "    \"Ch2 KO with DOX+ (PELO KD) vs DOX-\":[\"Condition\", \"Chr2 KO + DoxPos\", \"Chr2 KO + DoxNeg\"],\n",
    "}\n",
    "results_ctrl, pre_df_ctrl = run_deseq2(comps, \"Chr2 KO + DoxNeg\")"
   ]
  },
  {
   "cell_type": "code",
   "execution_count": 7,
   "id": "cc149373-800d-42c1-9148-91f3b936ac7f",
   "metadata": {},
   "outputs": [
    {
     "name": "stderr",
     "output_type": "stream",
     "text": [
      "Fitting size factors...\n",
      "... done in 0.01 seconds.\n",
      "\n",
      "Fitting dispersions...\n",
      "... done in 0.96 seconds.\n",
      "\n",
      "Fitting dispersion trend curve...\n",
      "... done in 3.96 seconds.\n",
      "\n",
      "Fitting MAP dispersions...\n",
      "... done in 0.97 seconds.\n",
      "\n",
      "Fitting LFCs...\n",
      "... done in 0.99 seconds.\n",
      "\n",
      "Replacing 0 outlier genes.\n",
      "\n",
      "Running Wald tests...\n",
      "... done in 0.68 seconds.\n",
      "\n",
      "Fitting MAP LFCs...\n"
     ]
    },
    {
     "name": "stdout",
     "output_type": "stream",
     "text": [
      "Log2 fold change & Wald test p-value: Condition FOCAD KO + DoxPos vs FOCAD KO + DoxNeg\n",
      "            baseMean  log2FoldChange     lfcSE      stat    pvalue      padj\n",
      "symbol                                                                      \n",
      "A1BG        0.380526        2.413093  4.585117  0.526288  0.598688       NaN\n",
      "A2M         0.090201       -0.928780  4.759442 -0.195145  0.845280       NaN\n",
      "A2M-AS1     0.723841       -0.598816  2.486310 -0.240845  0.809675       NaN\n",
      "A2MP1       0.103156       -0.015306  4.942710 -0.003097  0.997529       NaN\n",
      "A4GALT     75.024235        0.175495  0.231850  0.756931  0.449091  0.754089\n",
      "...              ...             ...       ...       ...       ...       ...\n",
      "ZYG11A      0.709035        0.349940  2.180216  0.160507  0.872482       NaN\n",
      "ZYG11B    473.775645        0.106453  0.118058  0.901698  0.367217  0.690929\n",
      "ZYX      3130.500188        0.104748  0.069194  1.513832  0.130068  0.423030\n",
      "ZZEF1     769.625457       -0.126508  0.095676 -1.322250  0.186085  0.503471\n",
      "ZZZ3      460.588569        0.118744  0.119034  0.997567  0.318489  0.652112\n",
      "\n",
      "[20130 rows x 6 columns]\n"
     ]
    },
    {
     "name": "stderr",
     "output_type": "stream",
     "text": [
      "... done in 1.78 seconds.\n",
      "\n",
      "2024-08-01 11:34:23,608 [WARNING] Duplicated values found in preranked stats: 9.21% of genes\n",
      "The order of those genes will be arbitrary, which may produce unexpected results.\n",
      "2024-08-01 11:34:23,609 [INFO] Parsing data files for GSEA.............................\n",
      "2024-08-01 11:34:23,612 [INFO] 0000 gene_sets have been filtered out when max_size=1000 and min_size=5\n",
      "2024-08-01 11:34:23,613 [INFO] 0050 gene_sets used for further statistical testing.....\n",
      "2024-08-01 11:34:23,614 [INFO] Start to run GSEA...Might take a while..................\n"
     ]
    },
    {
     "name": "stdout",
     "output_type": "stream",
     "text": [
      "Shrunk log2 fold change & Wald test p-value: Condition FOCAD KO + DoxPos vs FOCAD KO + DoxNeg\n",
      "            baseMean  log2FoldChange     lfcSE      stat    pvalue      padj\n",
      "symbol                                                                      \n",
      "A1BG        0.380526        0.002769  0.107375  0.526288  0.598688       NaN\n",
      "A2M         0.090201       -0.001745  0.140875 -0.195145  0.845280       NaN\n",
      "A2M-AS1     0.723841       -0.000969  0.110595 -0.240845  0.809675       NaN\n",
      "A2MP1       0.103156       -0.000199  0.151709 -0.003097  0.997529       NaN\n",
      "A4GALT     75.024235        0.044734  0.103839  0.756931  0.449091  0.754089\n",
      "...              ...             ...       ...       ...       ...       ...\n",
      "ZYG11A      0.709035        0.001735  0.115877  0.160507  0.872482       NaN\n",
      "ZYG11B    473.775645        0.061559  0.085918  0.901698  0.367217  0.690929\n",
      "ZYX      3130.500188        0.086237  0.062616  1.513832  0.130068  0.423030\n",
      "ZZEF1     769.625457       -0.087837  0.080622 -1.322250  0.186085  0.503471\n",
      "ZZZ3      460.588569        0.069549  0.088240  0.997567  0.318489  0.652112\n",
      "\n",
      "[20130 rows x 6 columns]\n"
     ]
    },
    {
     "name": "stderr",
     "output_type": "stream",
     "text": [
      "2024-08-01 11:34:25,032 [INFO] Congratulations. GSEApy runs successfully................\n",
      "\n"
     ]
    }
   ],
   "source": [
    "comps = {\n",
    "    \"FOCAD KO with DOX+ (PELO KD) vs DOX-\":[\"Condition\", \"FOCAD KO + DoxPos\", \"FOCAD KO + DoxNeg\"],\n",
    "}\n",
    "results_focad, pre_df_focad = run_deseq2(comps, \"FOCAD KO + DoxNeg\")"
   ]
  },
  {
   "cell_type": "markdown",
   "id": "a2112a1d-8ab6-48e9-b817-bdb326003775",
   "metadata": {},
   "source": [
    "# Save outputs"
   ]
  },
  {
   "cell_type": "code",
   "execution_count": 8,
   "id": "73caa4c6-d205-46a0-96b4-2927bd226193",
   "metadata": {},
   "outputs": [],
   "source": [
    "results_ctrl[\"DOX- with FOCAD KO vs Ch2 KO\"].to_csv(\"outputs/DOXneg_FOCAD_vs_Ch2_KO_deseq2.csv\")\n",
    "pre_df_ctrl[\"DOX- with FOCAD KO vs Ch2 KO\"].to_csv(\"outputs/DOXneg_FOCAD_vs_Ch2_KO_gsea_prerank.csv\")\n",
    "\n",
    "results_ctrl[\"Ch2 KO with DOX+ (PELO KD) vs DOX-\"].to_csv(\"outputs/Ch2_KO_DOXpos_vs_neg_deseq2.csv\")\n",
    "pre_df_ctrl[\"Ch2 KO with DOX+ (PELO KD) vs DOX-\"].to_csv(\"outputs/Ch2_KO_DOXpos_vs_neg_gsea_prerank.csv\")\n",
    "\n",
    "results_focad['FOCAD KO with DOX+ (PELO KD) vs DOX-'].to_csv(\"outputs/FOCAD_KO_DOXpos_vs_neg_deseq2.csv\")\n",
    "pre_df_focad['FOCAD KO with DOX+ (PELO KD) vs DOX-'].to_csv(\"outputs/FOCAD_KO_DOXpos_vs_neg_gsea_prerank.csv\")"
   ]
  }
 ],
 "metadata": {
  "kernelspec": {
   "display_name": "Python 3 (ipykernel)",
   "language": "python",
   "name": "python3"
  },
  "language_info": {
   "codemirror_mode": {
    "name": "ipython",
    "version": 3
   },
   "file_extension": ".py",
   "mimetype": "text/x-python",
   "name": "python",
   "nbconvert_exporter": "python",
   "pygments_lexer": "ipython3",
   "version": "3.9.0"
  }
 },
 "nbformat": 4,
 "nbformat_minor": 5
}
