{
 "cells": [
  {
   "cell_type": "code",
   "execution_count": 1,
   "id": "35ec94e2-eef0-407a-b3ee-195703b95e10",
   "metadata": {},
   "outputs": [],
   "source": [
    "import pandas as pd\n",
    "import numpy as np\n",
    "import glob"
   ]
  },
  {
   "cell_type": "markdown",
   "id": "41b4572f-8df3-4ab1-b8b5-8824432f4b8e",
   "metadata": {},
   "source": [
    "# Confirm figshare data matches local copy"
   ]
  },
  {
   "cell_type": "code",
   "execution_count": 2,
   "id": "851f59dc-c930-4d89-879c-68195ad28207",
   "metadata": {},
   "outputs": [],
   "source": [
    "FIGSHARE_DOWNLOAD = \"27249741/\"\n",
    "LOCAL_FIGSHARE = \"data/\""
   ]
  },
  {
   "cell_type": "code",
   "execution_count": 3,
   "id": "2973dd34-db90-4176-bf61-a542b4fcaccb",
   "metadata": {
    "scrolled": true
   },
   "outputs": [
    {
     "name": "stdout",
     "output_type": "stream",
     "text": [
      "sequence_map_9p21_3.csv\n",
      "DOXneg_FOCAD_vs_Ch2_KO_gsea_prerank.csv\n",
      "FOCAD_KO_DOXpos_vs_neg_gsea_prerank.csv\n",
      "gene_effect_9p21_3.csv\n",
      "DOXneg_FOCAD_vs_Ch2_KO_deseq2.csv\n",
      "readcounts_9p21_3.csv\n",
      "9p21_3_relative_copy_number.csv\n",
      "hallmark_gene_sets_2023.csv\n",
      "TTC37_transcript_expr.csv\n",
      "RSEM_expected_count_RNAseq.csv\n",
      "sample_metadata_RNAseq.csv\n",
      "logfold_change_9p21_3.csv\n",
      "Ch2_KO_DOXpos_vs_neg_deseq2.csv\n",
      "microsatellite_repeats.csv\n",
      "guide_map_9p21_3.csv\n",
      "Ch2_KO_DOXpos_vs_neg_gsea_prerank.csv\n",
      "tcga_alterations.csv\n",
      "FOCAD_KO_DOXpos_vs_neg_deseq2.csv\n"
     ]
    }
   ],
   "source": [
    "for file in glob.glob(FIGSHARE_DOWNLOAD+\"*\"):\n",
    "    f_name = file.split(\"/\")[-1]\n",
    "    from_figshare = pd.read_csv(file, low_memory=False)\n",
    "    try:\n",
    "        from_local = pd.read_csv(LOCAL_FIGSHARE+f_name, low_memory=False)\n",
    "    except:\n",
    "        print(\"skipped\", f_name)\n",
    "        continue\n",
    "    print(f_name)\n",
    "    pd.testing.assert_frame_equal(from_local, from_figshare, check_dtype=False, check_like=True)"
   ]
  },
  {
   "cell_type": "markdown",
   "id": "91d71c40-a822-4c0d-8bb7-610410af5e26",
   "metadata": {},
   "source": [
    "# Confirm Source Data matches local copy"
   ]
  },
  {
   "cell_type": "code",
   "execution_count": 4,
   "id": "632948ca-ecef-436f-b1ec-85074c805b00",
   "metadata": {},
   "outputs": [],
   "source": [
    "SOURCE_DOWNLOAD = \"Source Data/\"\n",
    "LOCAL_OUTPUTS = \"outputs/\""
   ]
  },
  {
   "cell_type": "code",
   "execution_count": 5,
   "id": "eb597cbe-12e6-4485-8714-3bc5e9370c10",
   "metadata": {},
   "outputs": [
    {
     "name": "stdout",
     "output_type": "stream",
     "text": [
      "ExtFig1a\n",
      "ExtFig1b\n",
      "Fig1b\n",
      "Fig1c\n",
      "Fig1d\n",
      "Fig1e\n",
      "Fig1f\n",
      "Fig4a\n",
      "skipped Fig4b\n",
      "Fig4c\n",
      "Fig4d\n",
      "skipped ExtFig5a\n",
      "skipped ExtFig5b\n",
      "ExtFig5d\n",
      "ExtFig5e\n",
      "ExtFig5f\n",
      "ExtFig5g\n",
      "skipped ExtFig5j\n",
      "ExtFig4a\n",
      "ExtFig4b\n",
      "skipped Fig2a\n",
      "skipped Fig2b\n",
      "skipped Fig2c\n",
      "skipped Fig2d\n",
      "skipped Fig2e\n",
      "ExtFig3a\n",
      "skipped ExtFig3b\n",
      "ExtFig3c\n",
      "ExtFig3d\n",
      "ExtFig3e\n",
      "ExtFig3f\n",
      "skipped ExtFig3g\n",
      "skipped ExtFig3h\n",
      "ExtFig3i\n",
      "skipped ExtFig2a\n",
      "skipped ExtFig2d\n",
      "Fig3a\n",
      "skipped Fig3b\n",
      "skipped Fig3c\n",
      "Fig3d\n",
      "Fig3e\n",
      "skipped Fig3f\n",
      "skipped Fig3g\n"
     ]
    }
   ],
   "source": [
    "for file in glob.glob(SOURCE_DOWNLOAD+\"*\"):\n",
    "    xl = pd.ExcelFile(file)\n",
    "    for sheet in xl.sheet_names:\n",
    "        from_source = xl.parse(sheet)\n",
    "        try:\n",
    "            from_local = pd.read_csv(LOCAL_OUTPUTS+sheet+\".csv\")\n",
    "        except:\n",
    "            print(\"skipped\", sheet)\n",
    "            continue\n",
    "        print(sheet)\n",
    "        pd.testing.assert_frame_equal(from_local, from_source, check_dtype=False)"
   ]
  },
  {
   "cell_type": "code",
   "execution_count": null,
   "id": "c10103cc-9bc3-4be1-8403-0ea51a3d0423",
   "metadata": {},
   "outputs": [],
   "source": []
  }
 ],
 "metadata": {
  "kernelspec": {
   "display_name": "Python 3 (ipykernel)",
   "language": "python",
   "name": "python3"
  },
  "language_info": {
   "codemirror_mode": {
    "name": "ipython",
    "version": 3
   },
   "file_extension": ".py",
   "mimetype": "text/x-python",
   "name": "python",
   "nbconvert_exporter": "python",
   "pygments_lexer": "ipython3",
   "version": "3.9.0"
  }
 },
 "nbformat": 4,
 "nbformat_minor": 5
}
