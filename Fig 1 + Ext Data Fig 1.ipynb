{
 "cells": [
  {
   "cell_type": "markdown",
   "id": "ee5a21d6-7747-499f-bf9f-22d3ad72b89b",
   "metadata": {},
   "source": [
    "# Fig 1 + Ext Data Fig 1\n",
    "\n",
    "This notebook produces all analyses in Figure 1 and Extended Data Figure 1."
   ]
  },
  {
   "cell_type": "code",
   "execution_count": null,
   "id": "b6b07ece",
   "metadata": {
    "ExecuteTime": {
     "end_time": "2023-10-03T17:33:19.086256Z",
     "start_time": "2023-10-03T17:32:55.941305Z"
    }
   },
   "outputs": [],
   "source": [
    "import pandas as pd\n",
    "import numpy as np\n",
    "import seaborn as sns\n",
    "import matplotlib.pyplot as plt\n",
    "from PIL import Image\n",
    "from helper_funcs import *"
   ]
  },
  {
   "cell_type": "markdown",
   "id": "7e27382c-d31f-4f2b-b06f-e228007003ec",
   "metadata": {},
   "source": [
    "# Import data"
   ]
  },
  {
   "cell_type": "code",
   "execution_count": null,
   "id": "948a7637-0269-4a13-8a12-49e712e6befa",
   "metadata": {},
   "outputs": [],
   "source": [
    "redownload = False\n",
    "gene_effect = read_in_data(\"CRISPRGeneEffect\", redownload=redownload, index_col=0)\n",
    "cn = read_in_data(\"OmicsCNGene\", redownload=redownload, index_col=0)\n",
    "expr = read_in_data(\"OmicsExpressionProteinCodingGenesTPMLogp1\", redownload=redownload, index_col=0)\n",
    "cn_seg = read_in_data(\"OmicsCNSegmentsProfile\", redownload=redownload, index_col=0)\n",
    "mod_prof = read_in_data(\"OmicsDefaultModelProfiles\", redownload=redownload)\n",
    "hs_mut = read_in_data(\"OmicsSomaticMutationsMatrixHotspot\", redownload=redownload, index_col=0)\n",
    "dam_mut = read_in_data(\"OmicsSomaticMutationsMatrixDamaging\", redownload=redownload, index_col=0)\n",
    "sigs = read_in_data(\"OmicsSignatures\", redownload=redownload, index_col=0)\n",
    "model_meta = read_in_data(\"Model\", redownload=redownload, index_col=0)"
   ]
  },
  {
   "cell_type": "markdown",
   "id": "113d3c71-7c0d-4786-9057-1c90fde037c9",
   "metadata": {},
   "source": [
    "# Prep Figure 1 Panels"
   ]
  },
  {
   "cell_type": "markdown",
   "id": "95dc1605-dbf0-491e-a3c1-7b9e4f6c218e",
   "metadata": {},
   "source": [
    "## Panel A: 9p21.3 Diagram"
   ]
  },
  {
   "cell_type": "code",
   "execution_count": null,
   "id": "86ab9b3b-b59f-446b-b17a-5f693299611b",
   "metadata": {},
   "outputs": [],
   "source": [
    "chr9p21_3 = np.asarray(Image.open('Ch9p21-diagram.png'))"
   ]
  },
  {
   "cell_type": "markdown",
   "id": "90fc2e7c-8c95-4f8d-989c-d3fefedcc063",
   "metadata": {},
   "source": [
    "## Panel B/C: 9p21.3 Deletion Call\n",
    "\n",
    "Cytoband copy number is computed with same method (including [managing gaps](https://github.com/broadinstitute/depmap_omics/blob/cf950f8c695cbf61db39d16718f999c622e1f16d/mgenepy/mutations.py#L8)) used to find gene-level CN in DepMap's Omics pipeline ."
   ]
  },
  {
   "cell_type": "code",
   "execution_count": null,
   "id": "34560f2f-7931-4601-b246-48991b1409c7",
   "metadata": {},
   "outputs": [],
   "source": [
    "def manageGapsInSegments(\n",
    "    segtocp, Chromosome=\"Chromosome\", End=\"End\", Start=\"Start\", cyto=None\n",
    "):\n",
    "    \"\"\"\n",
    "    extends the ends of segments in a segment file from GATK so as to remove all gaps ove the genome (works with multiple sample file)\n",
    "\n",
    "    Args:\n",
    "    ----\n",
    "      segtocp: dataframe of segments from GATK CN pipeline\n",
    "      Chromosome: str the value for the Chromosome columns\n",
    "      End: str the value for the End columns\n",
    "      Start: str the value for the Start columns\n",
    "      cyto: dataframe with chrom;end; columns giving the size of each chromosome (else puts last segment to 1000000000)\n",
    "    \"\"\"\n",
    "    prevchr = \"\"\n",
    "    prevend = 0\n",
    "    count = 0\n",
    "    l = []\n",
    "    segments = segtocp.copy()\n",
    "    le = len(segments)\n",
    "    for k, val in segments.iterrows():\n",
    "        # h.showcount(count, le)\n",
    "        count += 1\n",
    "        if val[Chromosome] != prevchr:  # we changed chromosome\n",
    "            # we extend the previous segment (last of the prev chrom) to.. way enough\n",
    "            if len(l) > 0:\n",
    "                l[-1][2] = (\n",
    "                    1000000000\n",
    "                    if cyto is None\n",
    "                    else cyto[cyto[\"chrom\"] == prevchr][\"end\"].values[-1]\n",
    "                )\n",
    "            # we extend the first segment to 0\n",
    "            l.append([val[Chromosome], 0, val[End]])\n",
    "        else:\n",
    "            if val[Start] > prevend + 1:  # we have a gap in the same chrom\n",
    "                sizeofgap = val[Start] - prevend\n",
    "                # we add to the previous one half of the gap\n",
    "                l[-1][2] += (\n",
    "                    int(sizeofgap / 2) if sizeofgap % 2 == 0 else int(sizeofgap / 2) + 1\n",
    "                )\n",
    "                # the rest to the other\n",
    "                l.append([val[Chromosome], val[Start] - int(sizeofgap / 2), val[End]])\n",
    "            elif val[Start] < prevend:  # this should never happen\n",
    "                # import pdb; pdb.set_trace()\n",
    "                raise ValueError(\"start comes after end\")\n",
    "            else:\n",
    "                l.append([val[Chromosome], val[Start], val[End]])\n",
    "        prevchr = val[Chromosome]\n",
    "        prevend = val[End]\n",
    "    # we extend the last one\n",
    "    l[-1][2] = (\n",
    "        1000000000 if cyto is None else cyto[cyto[\"chrom\"] == prevchr][\"end\"].values[-1]\n",
    "    )\n",
    "    segments[[Chromosome, Start, End]] = l\n",
    "    return segments.reset_index(drop=True)\n",
    "\n",
    "model_cn_seg = cn_seg.merge(\n",
    "    mod_prof[[\"ProfileID\", \"ModelID\"]], on=\"ProfileID\", how=\"inner\"\n",
    ")\n",
    "no_gap = manageGapsInSegments(model_cn_seg)\n",
    "\n",
    "def compute_weighted_cn(chr, start, end, model_cn_seg):\n",
    "    '''\n",
    "    Find the weighted CN per model over a chromosomal region.\n",
    "    '''\n",
    "    #get segments for the chromosome that overlap with the region\n",
    "    region_segs = model_cn_seg.loc[\n",
    "        (model_cn_seg[\"Chromosome\"] == chr) &\n",
    "        ((model_cn_seg[\"End\"] > start) & (model_cn_seg[\"Start\"] < end))\n",
    "    ].sort_values([\"ModelID\", \"Start\"]).set_index(\"ModelID\")\n",
    "    #setup series to capture cn\n",
    "    region_cn = pd.Series(np.nan, index=model_cn_seg[\"ModelID\"].unique())\n",
    "    #loop through all models\n",
    "    for model_id in region_cn.index:\n",
    "        #get the segments in region for that model\n",
    "        mod_segs = region_segs.loc[[model_id]]\n",
    "        #set cn to zero and start to start of gene\n",
    "        region_cn[model_id] = 0\n",
    "        curr_start = start\n",
    "        #iter through segments\n",
    "        for _, curr_seg in mod_segs.iterrows():\n",
    "            #weight cn by length of segment covering region / length of region as coef\n",
    "            coef = (min(curr_seg[\"End\"], end) - curr_start) / (end - start)\n",
    "            region_cn[model_id] += (curr_seg[\"SegmentMean\"] * coef)\n",
    "            #set new start to end of last segment\n",
    "            curr_start = curr_seg[\"End\"]\n",
    "    return np.log2(region_cn+1)\n",
    "\n",
    "model_cn_seg_9p21_3 = compute_weighted_cn('9', 19900000, 25600000, no_gap)"
   ]
  },
  {
   "cell_type": "code",
   "execution_count": null,
   "id": "10c7267a-4734-4232-a839-ae3f7193af4f",
   "metadata": {},
   "outputs": [],
   "source": [
    "fig1b_data = model_cn_seg_9p21_3.to_frame(\"Relative Copy Number 9p21.3\")\n",
    "fig1b_data[\"Deleted for thresh 0.4\"] = fig1b_data[\"Relative Copy Number 9p21.3\"] < 0.4\n",
    "fig1b_data[\"Relative Copy Number 9p21.3\"].notnull().sum(), fig1b_data[\"Deleted for thresh 0.4\"].value_counts()"
   ]
  },
  {
   "cell_type": "code",
   "execution_count": null,
   "id": "976ec032-d5e6-450d-88d9-fe200ab480a1",
   "metadata": {},
   "outputs": [],
   "source": [
    "del_seg_9p21_3 = model_cn_seg_9p21_3 < 0.4\n",
    "print(del_seg_9p21_3.reindex(gene_effect.index).value_counts())\n",
    "#run t-test on gene effect per gene for 9p21.3 del vs intact \n",
    "fig1c_volc = compare_it(del_seg_9p21_3, gene_effect, plot=False, alternative=\"less\")\n",
    "fig1c_volc.loc[[\"PELO (53918)\", \"HBS1L (10767)\", \"WDR77 (79084)\", \"PRMT5 (10419)\"]]"
   ]
  },
  {
   "cell_type": "code",
   "execution_count": null,
   "id": "e551ba32-c866-4420-a979-936d36611d76",
   "metadata": {},
   "outputs": [],
   "source": [
    "fig1d_data = pd.concat({\n",
    "    \"9p21.3 Relative Copy Number\":model_cn_seg_9p21_3,\n",
    "    \"PELO Dependency\":gene_effect[\"PELO (53918)\"],\n",
    "    \"MSI-H\":sigs[\"MSIScore\"] > 20,\n",
    "}, axis=1, join=\"inner\")\n",
    "fig1d_data['9p21.3 Relative Copy Number'].notnull().sum(), fig1d_data['MSI-H'].sum()"
   ]
  },
  {
   "cell_type": "markdown",
   "id": "1b8a45d4-eabc-4ca8-9382-806ef47a7e2c",
   "metadata": {},
   "source": [
    "## Panel E: 9p21.3 Intact vs Omics Features "
   ]
  },
  {
   "cell_type": "code",
   "execution_count": null,
   "id": "18179a51-22cd-41e1-8d56-80469f8ec60f",
   "metadata": {},
   "outputs": [],
   "source": [
    "all_feats = pd.concat([\n",
    "    expr.add_prefix(\"EXPR_\"),\n",
    "    cn.add_prefix(\"CN_\"),\n",
    "    hs_mut.add_prefix(\"HS_\"),\n",
    "    dam_mut.add_prefix(\"DAM_\"),\n",
    "    sigs,\n",
    "], axis=1)\n",
    "all_feats = all_feats.loc[:, (all_feats.notnull().sum() > 10)]"
   ]
  },
  {
   "cell_type": "code",
   "execution_count": null,
   "id": "3dada3d7-446c-4302-92a8-a9ea4f59640a",
   "metadata": {},
   "outputs": [],
   "source": [
    "pelo_dep = gene_effect.loc[gene_effect.index.isin(del_seg_9p21_3.index[~del_seg_9p21_3]), \"PELO (53918)\"]\n",
    "pelo_dep.shape[0]"
   ]
  },
  {
   "cell_type": "code",
   "execution_count": null,
   "id": "f89398b0-e66a-4f70-ab36-2d4974bc1c39",
   "metadata": {},
   "outputs": [],
   "source": [
    "#pearson correlation between PELO gene effect in 9p21.3 intact and all Omics features\n",
    "fig1e_volc = compare_it_continuous(\n",
    "    pelo_dep, all_feats,\n",
    "    plot=False, alternative=\"two-sided\"\n",
    ")\n",
    "fig1e_volc.loc[[\"MSIScore\", \"EXPR_TTC37 (9652)\"]]"
   ]
  },
  {
   "cell_type": "markdown",
   "id": "3d0928b2-2443-42be-87c2-8c21c3d002b2",
   "metadata": {},
   "source": [
    "## Panel F: Dependency Fan Plot"
   ]
  },
  {
   "cell_type": "code",
   "execution_count": null,
   "id": "3cac17ce-ff01-4d2f-bc1d-dd9f90db9ed4",
   "metadata": {},
   "outputs": [],
   "source": [
    "fig1f_data = pd.concat({\n",
    "    \"PELO Dependency\":gene_effect[\"PELO (53918)\"],\n",
    "    \"Oncotree Lineage\":model_meta[\"OncotreeLineage\"]\n",
    "}, axis=1).dropna(subset=[\"PELO Dependency\"])\n",
    "small_lineages = pd.Series(\"Other\", fig1f_data.groupby(\"Oncotree Lineage\").size().loc[lambda x: x < 20].index)\n",
    "fig1f_data[\"Oncotree Lineage Slim\"] = fig1f_data[\"Oncotree Lineage\"].replace(small_lineages).replace(SHORT_ONCO_NAMES)\n",
    "\n",
    "categories = sorted(fig1f_data[\"Oncotree Lineage Slim\"].dropna().unique())\n",
    "colormap = sns.color_palette(COLORS, len(categories))\n",
    "colors = pd.Series(dict(zip(categories, colormap))).apply(list)\n",
    "\n",
    "fig1f_data.shape[0]"
   ]
  },
  {
   "cell_type": "markdown",
   "id": "aa2fd60f-2ff2-43d6-9b2e-680dd5c5c08c",
   "metadata": {},
   "source": [
    "# Construct Figure 1"
   ]
  },
  {
   "cell_type": "code",
   "execution_count": null,
   "id": "cf147006-3852-4ff7-9e10-871299fe76ae",
   "metadata": {},
   "outputs": [],
   "source": [
    "fig1 = plt.figure(layout=\"constrained\", dpi=300, figsize=(DOUBLE_IN, 4))\n",
    "\n",
    "gs = fig1.add_gridspec(nrows=2, ncols=3)\n",
    "\n",
    "A = fig1.add_subplot(gs[0, 0])\n",
    "A.imshow(chr9p21_3, aspect='equal')\n",
    "A.set_axis_off()\n",
    "\n",
    "B = fig1.add_subplot(gs[0, 1])\n",
    "sns.histplot(fig1b_data[\"Relative Copy Number 9p21.3\"], binwidth=0.04, ax=B, element='step')\n",
    "axline(B, \"v\", 0.4)\n",
    "B.set_xlabel(\"9p21.3 Relative Copy Number\")\n",
    "B.set_ylabel(\"Cell Line Count\")\n",
    "\n",
    "\n",
    "C = fig1.add_subplot(gs[0, 2])\n",
    "quick_scatter(\n",
    "    x=fig1c_volc.loc[fig1c_volc[\"Effect Size\"] < 0, \"Effect Size\"].rename(\n",
    "        \"Mean Difference in Dependency\\nfor \"r\"9p21.3$^{-/-}$ vs 9p21.3$^+$\"\" Cell Lines\"\n",
    "    ),\n",
    "    y=-np.log10(fig1c_volc[\"q\"]).rename(\"-log$_{10}$($q$-value)\"), \n",
    "    hline=-np.log10(0.01), linewidth=0, alpha=0.75, ax=C, s=10\n",
    ")\n",
    "for text, idx, y_adj in [\n",
    "    (\"PELO\", \"PELO (53918)\", 0.2),\n",
    "    (\"WDR77\", \"WDR77 (79084)\", -0.2),\n",
    "    (\"PRMT5\", \"PRMT5 (10419)\", 0.2),\n",
    "    (\"HBS1L\", \"HBS1L (10767)\", 0.2),\n",
    "]:\n",
    "    C.annotate(\n",
    "        text, xy=(fig1c_volc.loc[idx, \"Effect Size\"], -np.log10(fig1c_volc.loc[idx, \"q\"])),\n",
    "        xytext=(fig1c_volc.loc[idx, \"Effect Size\"], -np.log10(fig1c_volc.loc[idx, \"q\"])+y_adj),\n",
    "        arrowprops=dict(arrowstyle='->', linewidth=0.5, color=ACCENT),\n",
    "        horizontalalignment='left', verticalalignment='bottom' if y_adj > 0 else 'top'\n",
    "    )\n",
    "\n",
    "D = fig1.add_subplot(gs[1, 0])\n",
    "\n",
    "sns.scatterplot(\n",
    "    data=fig1d_data.loc[~fig1d_data[\"MSI-H\"]], x=\"9p21.3 Relative Copy Number\", y=\"PELO Dependency\",\n",
    "    s=10, linewidth=0, alpha=0.5, ax=D\n",
    ")\n",
    "sns.scatterplot(\n",
    "    data=fig1d_data.loc[fig1d_data[\"MSI-H\"]], x=\"9p21.3 Relative Copy Number\", y=\"PELO Dependency\",\n",
    "    s=10, linewidth=0, alpha=0.75, label=\"MSI-H\", ax=D\n",
    ")\n",
    "axline(D, \"v\", 0.4)\n",
    "D.legend(loc=\"lower right\")\n",
    "\n",
    "E = fig1.add_subplot(gs[1, 1])\n",
    "quick_scatter(\n",
    "    x=fig1e_volc[\"Effect Size\"].rename(r\"Pearson Correlation with $PELO$\"\" Dependency\\nfor \"r\"9p21.3$^+$\"\" Cell Lines\"),\n",
    "    y=-np.log10(fig1e_volc[\"q\"]).rename(\"-log$_{10}$($q$-value)\"),\n",
    "    hline=-np.log10(0.01), s=10, linewidth=0, alpha=0.75, ax=E\n",
    ")\n",
    "for text, idx, y_adj, ha in [\n",
    "    (\"MSIScore\", \"MSIScore\", 0.5, \"left\"),\n",
    "    (\"TTC37 Expr\", \"EXPR_TTC37 (9652)\", 0.5, \"right\"),\n",
    "]:\n",
    "    E.annotate(\n",
    "        text, xy=(fig1e_volc.loc[idx, \"Effect Size\"], -np.log10(fig1e_volc.loc[idx, \"q\"])),\n",
    "        xytext=(fig1e_volc.loc[idx, \"Effect Size\"], -np.log10(fig1e_volc.loc[idx, \"q\"])+y_adj),\n",
    "        arrowprops=dict(arrowstyle='->', linewidth=0.5, color=ACCENT),\n",
    "        horizontalalignment=ha, verticalalignment='bottom' if y_adj > 0 else 'top'\n",
    "    )\n",
    "\n",
    "F = fig1.add_subplot(gs[1, 2], polar=True)\n",
    "fan_plot(\n",
    "    fig1f_data, \"PELO Dependency\", groups=\"Oncotree Lineage Slim\", hue=\"Oncotree Lineage Slim\", inverse=True, \n",
    "    gap=0.5, h_lines={\"0\":0, \"-1\":1, \"-2\":2}, h_line_angle=-4.65, \n",
    "    fontsize=5,  labelpad=23, label_dist=6,\n",
    "    title=r\"$PELO$ Dependency by Lineage in DepMap\", colors=colors, ax=F,  \n",
    ")\n",
    "\n",
    "\n",
    "fig1.text(0.01, 1, \"a\", weight='bold', fontsize=8)\n",
    "fig1.text(0.33, 1, \"b\", weight='bold', fontsize=8)\n",
    "fig1.text(0.66, 1, \"c\", weight='bold', fontsize=8)\n",
    "fig1.text(0.01, 0.5, \"d\", weight='bold', fontsize=8)\n",
    "fig1.text(0.33, 0.5, \"e\", weight='bold', fontsize=8)\n",
    "fig1.text(0.66, 0.5, \"f\", weight='bold', fontsize=8)\n",
    "\n",
    "fig1.set_constrained_layout_pads(\n",
    "    w_pad = 0.1, h_pad = 0.1\n",
    ")\n",
    "\n",
    "plt.savefig(\"figures/Fig1.pdf\", transparent=True, bbox_inches='tight',)\n",
    "plt.savefig(\"figures/Fig1.jpg\", transparent=True, bbox_inches='tight',)"
   ]
  },
  {
   "cell_type": "markdown",
   "id": "00953c70-c65d-48b8-9be8-8b31b84c1b3a",
   "metadata": {},
   "source": [
    "## Extended Data Figure Panel A: Various Thresholds"
   ]
  },
  {
   "cell_type": "code",
   "execution_count": null,
   "id": "3b84b24f-dab2-4502-9c53-ae3d4671f3e7",
   "metadata": {},
   "outputs": [],
   "source": [
    "thresholds = [0.2, 0.3, 0.5, 0.6]\n",
    "thresh_dicts = {}\n",
    "for t, thresh in enumerate(thresholds):\n",
    "    curr_thresh_dict = {}\n",
    "    curr_thresh_dict[\"deleted\"] = model_cn_seg_9p21_3 < thresh\n",
    "    curr_thresh_dict[\"result\"] = compare_it(curr_thresh_dict[\"deleted\"], gene_effect, plot=False)\n",
    "    #run t-test on gene effect per gene for 9p21.3 del vs intact with various definitions of del\n",
    "    curr_thresh_dict[\"outliers\"] = (\n",
    "        ((curr_thresh_dict[\"result\"][\"q\"] < 0.01) & (curr_thresh_dict[\"result\"][\"Effect Size\"] < -0.17))\n",
    "    ).loc[lambda x: x].index\n",
    "    thresh_dicts[thresh] = curr_thresh_dict"
   ]
  },
  {
   "cell_type": "markdown",
   "id": "8fc670a1-bccd-4011-ae2e-c92d3e651322",
   "metadata": {},
   "source": [
    "## Extended Data Figure Panel B: MSI-H vs Gene Effect"
   ]
  },
  {
   "cell_type": "code",
   "execution_count": null,
   "id": "ac0009de-2c19-4681-acbe-c9ed044a6d1d",
   "metadata": {},
   "outputs": [],
   "source": [
    "#run t-test on gene effect per gene for MSI-H vs MSS\n",
    "extfig1b_volc = compare_it(\n",
    "    sigs[\"MSIScore\"] > 20, gene_effect.loc[model_cn_seg_9p21_3 > 0.4], \n",
    "    plot=False, alternative=\"two-sided\"\n",
    ")\n",
    "extfig1b_volc.loc[[\"PELO (53918)\", \"WRN (7486)\"]]"
   ]
  },
  {
   "cell_type": "code",
   "execution_count": null,
   "id": "d63525ae-d19d-456d-a5ec-538dfa17800a",
   "metadata": {},
   "outputs": [],
   "source": [
    "(sigs.reindex(gene_effect.loc[model_cn_seg_9p21_3 > 0.4].index)[\"MSIScore\"] > 20).value_counts()"
   ]
  },
  {
   "cell_type": "markdown",
   "id": "3069de9d-f4f7-41c8-b2dc-0fe25b150bff",
   "metadata": {},
   "source": [
    "# Construct Extended Data Figure 1"
   ]
  },
  {
   "cell_type": "code",
   "execution_count": null,
   "id": "30a938ea-1079-4f8f-9957-35de80805cec",
   "metadata": {},
   "outputs": [],
   "source": [
    "extfig1 = plt.figure(layout=\"constrained\", dpi=300, figsize=(DOUBLE_IN, 5))\n",
    "\n",
    "gs = extfig1.add_gridspec(nrows=3, ncols=3, width_ratios=[1,1,2], height_ratios=[1.25,1,1])\n",
    "\n",
    "A = extfig1.add_subplot(gs[0, 0:2])\n",
    "sns.histplot(model_cn_seg_9p21_3, ax=A, element='step')\n",
    "A.set_xlabel(\"9p21.3 Relative Copy Number\")\n",
    "A.set_ylabel(\"Cell Line Count\")\n",
    "for thresh in thresh_dicts.keys():\n",
    "    axline(A, \"v\", thresh, alpha=thresh, label=thresh)\n",
    "A.legend(title=\"thresh\")\n",
    "\n",
    "for t, thresh in enumerate(thresh_dicts.keys()):\n",
    "    i, j = 1+(t // 2),  (t % 2)\n",
    "    curr_thresh_dict = thresh_dicts[thresh]\n",
    "    A2 = extfig1.add_subplot(gs[i, j])\n",
    "    quick_scatter(\n",
    "        x=curr_thresh_dict[\"result\"].loc[\n",
    "            curr_thresh_dict[\"result\"][\"Effect Size\"]< 0, \"Effect Size\"\n",
    "        ],\n",
    "        y=-np.log10(curr_thresh_dict[\"result\"][\"q\"]).rename(\"-log$_{10}$($q$-value)\"),\n",
    "        hline=-np.log10(0.01), figsize=(3,3), linewidth=0, alpha=0.75, s=2, ax=A2\n",
    "    )\n",
    "    n = curr_thresh_dict[\"deleted\"].sum()\n",
    "    A2.set_xlabel(f\"thresh={thresh} \"r\"(#9p21.3$^{-/-}$\"f\" = {n})\")\n",
    "    for text, idx, y_adj in [\n",
    "        (\"PELO\", \"PELO (53918)\", 0.2),\n",
    "        (\"WDR77\", \"WDR77 (79084)\", -0.2),\n",
    "        (\"PRMT5\", \"PRMT5 (10419)\", 0.2),\n",
    "        (\"HBS1L\", \"HBS1L (10767)\", 0.2),\n",
    "    ]:\n",
    "        A2.annotate(\n",
    "            text, xy=(curr_thresh_dict[\"result\"].loc[idx, \"Effect Size\"], -np.log10(curr_thresh_dict[\"result\"].loc[idx, \"q\"])),\n",
    "            xytext=(curr_thresh_dict[\"result\"].loc[idx, \"Effect Size\"], -np.log10(curr_thresh_dict[\"result\"].loc[idx, \"q\"])+y_adj),\n",
    "            arrowprops=dict(arrowstyle='->', linewidth=0.5, color=ACCENT),\n",
    "            horizontalalignment='left', verticalalignment='bottom' if y_adj > 0 else 'top'\n",
    "        )\n",
    "\n",
    "gs02 = gs[:3, 2].subgridspec(nrows=2, ncols=1, height_ratios=[0.1, 1], hspace=0)\n",
    "B = extfig1.add_subplot(gs02[0])\n",
    "outliers = ((extfig1b_volc[\"Effect Size\"].abs() > 0.3) & ((extfig1b_volc[\"q\"] < 1e6))).loc[lambda x: x].index\n",
    "outliers = pd.Series(outliers.str.split(\" \").str[0], outliers.to_list())\n",
    "sns.scatterplot(\n",
    "    x=extfig1b_volc[\"Effect Size\"],\n",
    "    y=-np.log10(extfig1b_volc[\"q\"]),\n",
    "    s=10, linewidth=0, alpha=0.75, ax=B\n",
    ")\n",
    "B.set_ylim(69,75)\n",
    "B.set_xlabel(None)\n",
    "B.set_ylabel(None)\n",
    "B.spines[\"bottom\"].set_visible(False)\n",
    "B.axes.get_xaxis().set_visible(False)\n",
    "B.set_yticks([70])\n",
    "B2 = extfig1.add_subplot(gs02[1])\n",
    "sns.scatterplot(\n",
    "    x=extfig1b_volc[\"Effect Size\"].rename(r\"Mean Difference in Dependency for 9p21.3$^+$/MSI-H \"'\\n'r\"vs 9p21.3$^+$/MSS Cell Lines\"),\n",
    "    y=-np.log10(extfig1b_volc[\"q\"]).rename(\"-log$_{10}$($q$-value)\"),\n",
    "    s=10, linewidth=0, alpha=0.75, ax=B2\n",
    ")\n",
    "axline(B2, \"h\", -np.log10(0.01))\n",
    "B2.set_ylim(0,33)\n",
    "kwargs = dict(transform=B.transAxes, color='k', linewidth=1, clip_on=False)\n",
    "d = .01\n",
    "B.plot((-d, +d), (-d / 0.1, +d / 0.1), **kwargs) \n",
    "kwargs.update(transform=B2.transAxes)\n",
    "B2.plot((-d, +d), (1 - d, 1 + d), **kwargs)\n",
    "B.annotate(\n",
    "    \"WRN\", xy=(extfig1b_volc.loc[\"WRN (7486)\", \"Effect Size\"], -np.log10(extfig1b_volc.loc[\"WRN (7486)\", \"q\"])),\n",
    "    xytext=(extfig1b_volc.loc[\"WRN (7486)\", \"Effect Size\"], -np.log10(extfig1b_volc.loc[\"WRN (7486)\", \"q\"])-0.2),\n",
    "    arrowprops=dict(arrowstyle='->', linewidth=0.5, color=ACCENT),\n",
    "    horizontalalignment='left', verticalalignment='top'\n",
    ")\n",
    "for text, idx, y_adj in [\n",
    "    (\"PELO\", \"PELO (53918)\", 0.2),\n",
    "    (\"RPL22L1\", \"RPL22L1 (200916)\", 0.2)\n",
    "]:\n",
    "    B2.annotate(\n",
    "        text, xy=(extfig1b_volc.loc[idx, \"Effect Size\"], -np.log10(extfig1b_volc.loc[idx, \"q\"])),\n",
    "        xytext=(extfig1b_volc.loc[idx, \"Effect Size\"], -np.log10(extfig1b_volc.loc[idx, \"q\"])+y_adj),\n",
    "        arrowprops=dict(arrowstyle='->', linewidth=0.5, color=ACCENT),\n",
    "        horizontalalignment='left', verticalalignment='bottom' if y_adj > 0 else 'top'\n",
    "    )\n",
    "\n",
    "\n",
    "extfig1.text(-0.01, 1, \"a\", weight='bold', fontsize=8)\n",
    "extfig1.text(0.58, 1, \"b\", weight='bold', fontsize=8)\n",
    "\n",
    "extfig1.set_constrained_layout_pads(\n",
    "    w_pad = 0.05, h_pad = 0.05\n",
    ")\n",
    "\n",
    "plt.savefig(\"figures/ExtFig1.pdf\", transparent=True, bbox_inches='tight',)\n",
    "plt.savefig(\"figures/ExtFig1.jpg\", transparent=True, bbox_inches='tight',)"
   ]
  },
  {
   "cell_type": "markdown",
   "id": "1198813c-6151-4bb1-bac2-a5c22c6bc9c9",
   "metadata": {},
   "source": [
    "# Save outputs"
   ]
  },
  {
   "cell_type": "code",
   "execution_count": null,
   "id": "46408d39-3d9e-4bca-9168-2339ed2a4a23",
   "metadata": {},
   "outputs": [],
   "source": [
    "fig1b_data.rename_axis(\"ModelID\").to_csv(\"outputs/Fig1b.csv\")\n",
    "fig1c_volc.rename_axis(\"Gene\").to_csv(\"outputs/Fig1c.csv\")\n",
    "fig1d_data.rename_axis(\"ModelID\").to_csv(\"outputs/Fig1d.csv\")\n",
    "fig1e_volc.rename_axis(\"Gene\").to_csv(\"outputs/Fig1e.csv\")\n",
    "fig1f_data.rename_axis(\"ModelID\").to_csv(\"outputs/Fig1f.csv\")"
   ]
  },
  {
   "cell_type": "code",
   "execution_count": null,
   "id": "16a1df2b-c985-4a66-8c56-95ad3e61e39c",
   "metadata": {},
   "outputs": [],
   "source": [
    "extfig1a_data = pd.concat({k:v[\"result\"] for k, v in thresh_dicts.items()}).reset_index().rename(\n",
    "    columns={\"level_0\":\"Threshold\", \"level_1\":\"Gene\"}\n",
    ")\n",
    "extfig1a_data.to_csv(\"outputs/ExtFig1a.csv\", index=None)\n",
    "extfig1b_volc.rename_axis(\"Gene\").to_csv(\"outputs/ExtFig1b.csv\")"
   ]
  },
  {
   "cell_type": "code",
   "execution_count": null,
   "id": "044b3da5-d024-45ce-8efe-7526ba0a1b74",
   "metadata": {},
   "outputs": [],
   "source": [
    " "
   ]
  }
 ],
 "metadata": {
  "kernelspec": {
   "display_name": "Python 3 (ipykernel)",
   "language": "python",
   "name": "python3"
  },
  "language_info": {
   "codemirror_mode": {
    "name": "ipython",
    "version": 3
   },
   "file_extension": ".py",
   "mimetype": "text/x-python",
   "name": "python",
   "nbconvert_exporter": "python",
   "pygments_lexer": "ipython3",
   "version": "3.9.0"
  },
  "toc": {
   "base_numbering": 1,
   "nav_menu": {},
   "number_sections": true,
   "sideBar": true,
   "skip_h1_title": false,
   "title_cell": "Table of Contents",
   "title_sidebar": "Contents",
   "toc_cell": false,
   "toc_position": {},
   "toc_section_display": true,
   "toc_window_display": false
  }
 },
 "nbformat": 4,
 "nbformat_minor": 5
}
